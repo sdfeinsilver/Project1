{
 "cells": [
  {
   "cell_type": "markdown",
   "metadata": {},
   "source": [
    "Project 1 - Baseball Analysis"
   ]
  },
  {
   "cell_type": "code",
   "execution_count": 2,
   "metadata": {},
   "outputs": [],
   "source": [
    "#Import Dependencies\n",
    "import pandas as pd"
   ]
  },
  {
   "cell_type": "code",
   "execution_count": 3,
   "metadata": {},
   "outputs": [],
   "source": [
    "#Read in Teams CSV Data as DataFrame\n",
    "teams_filepath = \"Resources/Teams.csv\"\n",
    "teams_df = pd.read_csv(teams_filepath)"
   ]
  },
  {
   "cell_type": "code",
   "execution_count": 4,
   "metadata": {},
   "outputs": [],
   "source": [
    "#Organize Teams Dataframe Columns (Put Columns in Order, Get Rid of Columns you dont need)\n",
    "teams_df = teams_df[[\"name\", \"yearID\", \"G\", \"W\", \"L\", \"R\", \"AB\", \"H\", \"2B\", \"3B\", \"HR\", \"BB\", \"SO\", \"SB\", \"ER\", \"ERA\", \"CG\", \"E\"]]\n"
   ]
  },
  {
   "cell_type": "code",
   "execution_count": 5,
   "metadata": {},
   "outputs": [
    {
     "output_type": "execute_result",
     "data": {
      "text/plain": [
       "                   name  yearID    G   W   L    R    AB     H   2B  3B   HR  \\\n",
       "1343  Baltimore Orioles    1960  154  89  65  682  5170  1307  206  33  123   \n",
       "1344     Boston Red Sox    1960  154  65  89  658  5215  1359  234  32  124   \n",
       "1345  Chicago White Sox    1960  154  87  67  741  5191  1402  242  38  112   \n",
       "1346       Chicago Cubs    1960  156  60  94  634  5311  1293  213  48  119   \n",
       "1347    Cincinnati Reds    1960  154  67  87  640  5289  1324  230  40  140   \n",
       "\n",
       "       BB     SO     SB   ER   ERA  CG    E  \n",
       "1343  596  801.0   37.0  538  3.52  48  107  \n",
       "1344  570  798.0   34.0  699  4.62  34  140  \n",
       "1345  567  648.0  122.0  552  3.60  42  109  \n",
       "1346  531  897.0   51.0  678  4.35  36  143  \n",
       "1347  512  858.0   73.0  618  4.00  33  125  "
      ],
      "text/html": "<div>\n<style scoped>\n    .dataframe tbody tr th:only-of-type {\n        vertical-align: middle;\n    }\n\n    .dataframe tbody tr th {\n        vertical-align: top;\n    }\n\n    .dataframe thead th {\n        text-align: right;\n    }\n</style>\n<table border=\"1\" class=\"dataframe\">\n  <thead>\n    <tr style=\"text-align: right;\">\n      <th></th>\n      <th>name</th>\n      <th>yearID</th>\n      <th>G</th>\n      <th>W</th>\n      <th>L</th>\n      <th>R</th>\n      <th>AB</th>\n      <th>H</th>\n      <th>2B</th>\n      <th>3B</th>\n      <th>HR</th>\n      <th>BB</th>\n      <th>SO</th>\n      <th>SB</th>\n      <th>ER</th>\n      <th>ERA</th>\n      <th>CG</th>\n      <th>E</th>\n    </tr>\n  </thead>\n  <tbody>\n    <tr>\n      <th>1343</th>\n      <td>Baltimore Orioles</td>\n      <td>1960</td>\n      <td>154</td>\n      <td>89</td>\n      <td>65</td>\n      <td>682</td>\n      <td>5170</td>\n      <td>1307</td>\n      <td>206</td>\n      <td>33</td>\n      <td>123</td>\n      <td>596</td>\n      <td>801.0</td>\n      <td>37.0</td>\n      <td>538</td>\n      <td>3.52</td>\n      <td>48</td>\n      <td>107</td>\n    </tr>\n    <tr>\n      <th>1344</th>\n      <td>Boston Red Sox</td>\n      <td>1960</td>\n      <td>154</td>\n      <td>65</td>\n      <td>89</td>\n      <td>658</td>\n      <td>5215</td>\n      <td>1359</td>\n      <td>234</td>\n      <td>32</td>\n      <td>124</td>\n      <td>570</td>\n      <td>798.0</td>\n      <td>34.0</td>\n      <td>699</td>\n      <td>4.62</td>\n      <td>34</td>\n      <td>140</td>\n    </tr>\n    <tr>\n      <th>1345</th>\n      <td>Chicago White Sox</td>\n      <td>1960</td>\n      <td>154</td>\n      <td>87</td>\n      <td>67</td>\n      <td>741</td>\n      <td>5191</td>\n      <td>1402</td>\n      <td>242</td>\n      <td>38</td>\n      <td>112</td>\n      <td>567</td>\n      <td>648.0</td>\n      <td>122.0</td>\n      <td>552</td>\n      <td>3.60</td>\n      <td>42</td>\n      <td>109</td>\n    </tr>\n    <tr>\n      <th>1346</th>\n      <td>Chicago Cubs</td>\n      <td>1960</td>\n      <td>156</td>\n      <td>60</td>\n      <td>94</td>\n      <td>634</td>\n      <td>5311</td>\n      <td>1293</td>\n      <td>213</td>\n      <td>48</td>\n      <td>119</td>\n      <td>531</td>\n      <td>897.0</td>\n      <td>51.0</td>\n      <td>678</td>\n      <td>4.35</td>\n      <td>36</td>\n      <td>143</td>\n    </tr>\n    <tr>\n      <th>1347</th>\n      <td>Cincinnati Reds</td>\n      <td>1960</td>\n      <td>154</td>\n      <td>67</td>\n      <td>87</td>\n      <td>640</td>\n      <td>5289</td>\n      <td>1324</td>\n      <td>230</td>\n      <td>40</td>\n      <td>140</td>\n      <td>512</td>\n      <td>858.0</td>\n      <td>73.0</td>\n      <td>618</td>\n      <td>4.00</td>\n      <td>33</td>\n      <td>125</td>\n    </tr>\n  </tbody>\n</table>\n</div>"
     },
     "metadata": {},
     "execution_count": 5
    }
   ],
   "source": [
    "#Drop all years prior to 1960 (Just analyzing the modern era of baseball ~1960)\n",
    "teams_df = teams_df.loc[teams_df[\"yearID\"] > 1959]\n",
    "teams_df.head()"
   ]
  },
  {
   "cell_type": "code",
   "execution_count": 6,
   "metadata": {},
   "outputs": [
    {
     "output_type": "execute_result",
     "data": {
      "text/plain": [
       "   yearID teamID lgID   playerID  salary\n",
       "0    1985    ATL   NL  barkele01  870000\n",
       "1    1985    ATL   NL  bedrost01  550000\n",
       "2    1985    ATL   NL  benedbr01  545000\n",
       "3    1985    ATL   NL   campri01  633333\n",
       "4    1985    ATL   NL  ceronri01  625000"
      ],
      "text/html": "<div>\n<style scoped>\n    .dataframe tbody tr th:only-of-type {\n        vertical-align: middle;\n    }\n\n    .dataframe tbody tr th {\n        vertical-align: top;\n    }\n\n    .dataframe thead th {\n        text-align: right;\n    }\n</style>\n<table border=\"1\" class=\"dataframe\">\n  <thead>\n    <tr style=\"text-align: right;\">\n      <th></th>\n      <th>yearID</th>\n      <th>teamID</th>\n      <th>lgID</th>\n      <th>playerID</th>\n      <th>salary</th>\n    </tr>\n  </thead>\n  <tbody>\n    <tr>\n      <th>0</th>\n      <td>1985</td>\n      <td>ATL</td>\n      <td>NL</td>\n      <td>barkele01</td>\n      <td>870000</td>\n    </tr>\n    <tr>\n      <th>1</th>\n      <td>1985</td>\n      <td>ATL</td>\n      <td>NL</td>\n      <td>bedrost01</td>\n      <td>550000</td>\n    </tr>\n    <tr>\n      <th>2</th>\n      <td>1985</td>\n      <td>ATL</td>\n      <td>NL</td>\n      <td>benedbr01</td>\n      <td>545000</td>\n    </tr>\n    <tr>\n      <th>3</th>\n      <td>1985</td>\n      <td>ATL</td>\n      <td>NL</td>\n      <td>campri01</td>\n      <td>633333</td>\n    </tr>\n    <tr>\n      <th>4</th>\n      <td>1985</td>\n      <td>ATL</td>\n      <td>NL</td>\n      <td>ceronri01</td>\n      <td>625000</td>\n    </tr>\n  </tbody>\n</table>\n</div>"
     },
     "metadata": {},
     "execution_count": 6
    }
   ],
   "source": [
    "#Read in Salary CSV Data as DataFrame\n",
    "salary_csvpath = \"Resources/Salaries.csv\"\n",
    "salary_df = pd.read_csv(salary_csvpath)\n",
    "salary_df.head()"
   ]
  },
  {
   "cell_type": "code",
   "execution_count": 29,
   "metadata": {},
   "outputs": [
    {
     "output_type": "execute_result",
     "data": {
      "text/plain": [
       "1999    1006\n",
       "1998     998\n",
       "1995     986\n",
       "1996     931\n",
       "1997     925\n",
       "1993     923\n",
       "1994     884\n",
       "1990     867\n",
       "2001     860\n",
       "2008     856\n",
       "2012     848\n",
       "2002     846\n",
       "2007     842\n",
       "2011     839\n",
       "2000     836\n",
       "2005     831\n",
       "2004     831\n",
       "2010     830\n",
       "2003     827\n",
       "2006     819\n",
       "2015     817\n",
       "2013     815\n",
       "2009     813\n",
       "2014     802\n",
       "1992     769\n",
       "1986     738\n",
       "1989     711\n",
       "1991     685\n",
       "1988     663\n",
       "1987     627\n",
       "1985     550\n",
       "Name: yearID, dtype: int64"
      ]
     },
     "metadata": {},
     "execution_count": 29
    }
   ],
   "source": [
    "#Cleanup data: If na (a), null, blanks\r\n",
    "# salary_df.isna().sum()\r\n",
    "# salary_df.isnull().sum()\r\n",
    "#Description of salary\r\n",
    "# salary_df['teamID'].value_counts()\r\n",
    "# salary_df['salary'].describe()\r\n",
    "salary_df['yearID'].value_counts()"
   ]
  },
  {
   "cell_type": "code",
   "execution_count": 26,
   "metadata": {},
   "outputs": [
    {
     "output_type": "execute_result",
     "data": {
      "text/plain": [
       "<pandas.core.groupby.generic.DataFrameGroupBy object at 0x00000224769FE1C0>"
      ]
     },
     "metadata": {},
     "execution_count": 26
    }
   ],
   "source": [
    "#Need to Retrieve Team Total Salary Caps by Year from Salary Dataframe\n",
    "#KM-> This one we can do it like the horoesofpymoli when we did the groupby on age i think setting up the age groups"
   ]
  }
 ],
 "metadata": {
  "kernelspec": {
   "display_name": "Python 3",
   "language": "python",
   "name": "python3"
  },
  "language_info": {
   "codemirror_mode": {
    "name": "ipython",
    "version": 3
   },
   "file_extension": ".py",
   "mimetype": "text/x-python",
   "name": "python",
   "nbconvert_exporter": "python",
   "pygments_lexer": "ipython3",
   "version": "3.8.3-final"
  }
 },
 "nbformat": 4,
 "nbformat_minor": 4
}